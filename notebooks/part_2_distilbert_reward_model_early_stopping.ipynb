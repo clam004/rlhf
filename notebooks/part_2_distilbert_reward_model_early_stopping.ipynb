{
 "cells": [
  {
   "cell_type": "markdown",
   "id": "5bea1912",
   "metadata": {},
   "source": [
    "Train a IMDb neg/pos classifier with DistilBERT\n",
    "\n",
    "https://stackoverflow.com/questions/69087044/early-stopping-in-bert-trainer-instances"
   ]
  },
  {
   "cell_type": "code",
   "execution_count": 3,
   "id": "f25c689d",
   "metadata": {},
   "outputs": [
    {
     "name": "stdout",
     "output_type": "stream",
     "text": [
      "os.getcwd() /home/carson/rlhf/notebooks\n",
      "3.8.10 (default, Nov 14 2022, 12:59:47) \n",
      "[GCC 9.4.0]\n",
      "torch.__version__ 1.11.0+cu113\n",
      "NUM_GPUS 2 last_gpu cuda:1\n",
      "0 cuda\n",
      "transformers.__version__ 4.25.1\n",
      "The autoreload extension is already loaded. To reload it, use:\n",
      "  %reload_ext autoreload\n"
     ]
    }
   ],
   "source": [
    "import os\n",
    "print('os.getcwd()', os.getcwd())\n",
    "import sys\n",
    "sys.path.insert(1, '../')\n",
    "print(sys.version)\n",
    "import time\n",
    "\n",
    "#plotting tools\n",
    "from matplotlib import pyplot as plt \n",
    "from tqdm.notebook import tqdm as tqdm\n",
    "\n",
    "import numpy as np\n",
    "\n",
    "#torch libs\n",
    "import torch\n",
    "print('torch.__version__', torch.__version__)\n",
    "NUM_GPUS = torch.cuda.device_count()\n",
    "\n",
    "if NUM_GPUS > 0:\n",
    "    last_gpu = torch.device('cuda:'+str(NUM_GPUS-1))\n",
    "\n",
    "print('NUM_GPUS', NUM_GPUS, 'last_gpu', last_gpu)\n",
    "\n",
    "device = torch.device(\"cuda\" if torch.cuda.is_available() else \"cpu\")\n",
    "pipe_device = 0 if torch.cuda.is_available() else -1\n",
    "print(pipe_device, device)\n",
    "\n",
    "#huggingface transformers\n",
    "import transformers\n",
    "print('transformers.__version__',transformers.__version__)\n",
    "from transformers import AutoTokenizer, pipeline\n",
    "from transformers import GPT2Tokenizer, GPT2LMHeadModel, GPT2PreTrainedModel\n",
    "\n",
    "from datasets import load_dataset\n",
    "\n",
    "#jupyter stuff\n",
    "%load_ext autoreload\n",
    "%autoreload 2\n",
    "%matplotlib inline"
   ]
  },
  {
   "cell_type": "code",
   "execution_count": 2,
   "id": "8081ace9",
   "metadata": {},
   "outputs": [
    {
     "name": "stderr",
     "output_type": "stream",
     "text": [
      "Found cached dataset imdb (/home/carson/.cache/huggingface/datasets/imdb/plain_text/1.0.0/2fdd8b9bcadd6e7055e742a706876ba43f19faee861df134affd7a3f60fc38a1)\n"
     ]
    }
   ],
   "source": [
    "# use this line instead to get the whole dataset\n",
    "#imdb_dataset = load_dataset(\"imdb\")\n",
    "\n",
    "# use these lines to get a smaller version of the data where we split train into train-test\n",
    "imdb_dataset = load_dataset(\"imdb\", split=\"train\")\n",
    "imdb_dataset = imdb_dataset.train_test_split(test_size=0.1)"
   ]
  },
  {
   "cell_type": "code",
   "execution_count": 3,
   "id": "77ef306f",
   "metadata": {},
   "outputs": [
    {
     "name": "stdout",
     "output_type": "stream",
     "text": [
      "DatasetDict({\n",
      "    train: Dataset({\n",
      "        features: ['text', 'label'],\n",
      "        num_rows: 22500\n",
      "    })\n",
      "    test: Dataset({\n",
      "        features: ['text', 'label'],\n",
      "        num_rows: 2500\n",
      "    })\n",
      "})\n",
      "\n",
      "{'text': Value(dtype='string', id=None), 'label': ClassLabel(names=['neg', 'pos'], id=None)}\n"
     ]
    }
   ],
   "source": [
    "print(imdb_dataset)\n",
    "print('')\n",
    "print(imdb_dataset['train'].features)"
   ]
  },
  {
   "cell_type": "code",
   "execution_count": 4,
   "id": "d2738116",
   "metadata": {},
   "outputs": [
    {
     "data": {
      "text/plain": [
       "\"For long time I haven't seen such a good fantasy movie, magic fights here are even better than in LO\""
      ]
     },
     "execution_count": 4,
     "metadata": {},
     "output_type": "execute_result"
    }
   ],
   "source": [
    "imdb_dataset['train']['text'][0][:100]"
   ]
  },
  {
   "cell_type": "code",
   "execution_count": 4,
   "id": "d7d2cd14",
   "metadata": {},
   "outputs": [
    {
     "name": "stdout",
     "output_type": "stream",
     "text": [
      "0.4988\n",
      "[0, 1, 1, 1, 0, 1, 0, 1, 0, 0, 0, 1, 1, 0, 1, 0, 0, 0, 0, 0, 0, 1, 1]\n"
     ]
    }
   ],
   "source": [
    "print(np.mean(imdb_dataset['train']['label'])) # dataset should be balanced\n",
    "print(imdb_dataset['train']['label'][::1000])"
   ]
  },
  {
   "cell_type": "markdown",
   "id": "4df20c96",
   "metadata": {},
   "source": [
    "load a pretrained distilbert"
   ]
  },
  {
   "cell_type": "code",
   "execution_count": 6,
   "id": "f60cc4fb",
   "metadata": {},
   "outputs": [
    {
     "name": "stderr",
     "output_type": "stream",
     "text": [
      "Some weights of the model checkpoint at distilbert-base-uncased were not used when initializing DistilBertForSequenceClassification: ['vocab_layer_norm.bias', 'vocab_transform.bias', 'vocab_transform.weight', 'vocab_layer_norm.weight', 'vocab_projector.weight', 'vocab_projector.bias']\n",
      "- This IS expected if you are initializing DistilBertForSequenceClassification from the checkpoint of a model trained on another task or with another architecture (e.g. initializing a BertForSequenceClassification model from a BertForPreTraining model).\n",
      "- This IS NOT expected if you are initializing DistilBertForSequenceClassification from the checkpoint of a model that you expect to be exactly identical (initializing a BertForSequenceClassification model from a BertForSequenceClassification model).\n",
      "Some weights of DistilBertForSequenceClassification were not initialized from the model checkpoint at distilbert-base-uncased and are newly initialized: ['classifier.bias', 'pre_classifier.bias', 'pre_classifier.weight', 'classifier.weight']\n",
      "You should probably TRAIN this model on a down-stream task to be able to use it for predictions and inference.\n"
     ]
    }
   ],
   "source": [
    "from transformers import AutoModelForSequenceClassification, AutoTokenizer\n",
    "\n",
    "model_name = \"distilbert-base-uncased\"\n",
    "\n",
    "model = AutoModelForSequenceClassification.from_pretrained(model_name)\n",
    "tokenizer = AutoTokenizer.from_pretrained(model_name)"
   ]
  },
  {
   "cell_type": "markdown",
   "id": "8dde3ab5",
   "metadata": {},
   "source": [
    "Preprocess Data"
   ]
  },
  {
   "cell_type": "code",
   "execution_count": 7,
   "id": "a7ee8572",
   "metadata": {},
   "outputs": [
    {
     "data": {
      "application/vnd.jupyter.widget-view+json": {
       "model_id": "0e16750ad8bf430e906b164e0f76f56f",
       "version_major": 2,
       "version_minor": 0
      },
      "text/plain": [
       "  0%|          | 0/23 [00:00<?, ?ba/s]"
      ]
     },
     "metadata": {},
     "output_type": "display_data"
    },
    {
     "data": {
      "application/vnd.jupyter.widget-view+json": {
       "model_id": "64e09581b9f345f6be7ee81b3ccbdff9",
       "version_major": 2,
       "version_minor": 0
      },
      "text/plain": [
       "  0%|          | 0/3 [00:00<?, ?ba/s]"
      ]
     },
     "metadata": {},
     "output_type": "display_data"
    }
   ],
   "source": [
    "def tokenize(examples):\n",
    "    outputs = tokenizer(examples['text'], truncation=True)\n",
    "    return outputs\n",
    "\n",
    "tokenized_dataset = imdb_dataset.map(tokenize, batched=True)"
   ]
  },
  {
   "cell_type": "code",
   "execution_count": 11,
   "id": "b842c32d",
   "metadata": {},
   "outputs": [
    {
     "name": "stdout",
     "output_type": "stream",
     "text": [
      "DatasetDict({\n",
      "    train: Dataset({\n",
      "        features: ['text', 'label', 'input_ids', 'attention_mask'],\n",
      "        num_rows: 22500\n",
      "    })\n",
      "    test: Dataset({\n",
      "        features: ['text', 'label', 'input_ids', 'attention_mask'],\n",
      "        num_rows: 2500\n",
      "    })\n",
      "})\n",
      "\n",
      "For long time I haven't seen such a good fantasy movie, magic fights here are even better than in LO\n",
      "\n",
      "[5875, 4784, 1012, 16755, 7955, 2000, 2156, 2009, 1012, 102]\n"
     ]
    }
   ],
   "source": [
    "print(tokenized_dataset)\n",
    "print(\"\")\n",
    "print(tokenized_dataset['train']['text'][0][:100])\n",
    "print(\"\")\n",
    "print(tokenized_dataset['train']['input_ids'][0][-10:])"
   ]
  },
  {
   "cell_type": "markdown",
   "id": "69bd0c86",
   "metadata": {},
   "source": [
    "Prepare Trainer and Evaluation Metric"
   ]
  },
  {
   "cell_type": "code",
   "execution_count": 23,
   "id": "137145eb",
   "metadata": {},
   "outputs": [],
   "source": [
    "from datasets import load_metric\n",
    "from sklearn.metrics import f1_score, accuracy_score, recall_score, precision_score\n",
    "\n",
    "def compute_accuracy_metrics(eval_preds):\n",
    "    metric = load_metric(\"accuracy\")\n",
    "    logits, labels = eval_preds\n",
    "    predictions = np.argmax(logits, axis=-1)\n",
    "    return metric.compute(predictions=predictions, references=labels)\n",
    "\n",
    "def compute_metrics(p):   \n",
    "    \n",
    "    pred, labels = p\n",
    "    pred = np.argmax(pred, axis=1)\n",
    "    accuracy = accuracy_score(y_true=labels, y_pred=pred)\n",
    "    recall = recall_score(y_true=labels, y_pred=pred)\n",
    "    precision = precision_score(y_true=labels, y_pred=pred)\n",
    "    f1 = f1_score(y_true=labels, y_pred=pred)  \n",
    "    \n",
    "    return {\"accuracy\": accuracy, \"precision\": precision, \"recall\": recall, \"f1\": f1}"
   ]
  },
  {
   "cell_type": "code",
   "execution_count": 24,
   "id": "cdb806f5",
   "metadata": {},
   "outputs": [
    {
     "name": "stderr",
     "output_type": "stream",
     "text": [
      "/home/carson/rlhf/notebooks/large_data/distilbert-imdb is already a clone of https://huggingface.co/clam004/distilbert-imdb. Make sure you pull the latest changes with `repo.git_pull()`.\n",
      "PyTorch: setting up devices\n",
      "The default value for the training argument `--report_to` will change in v5 (from all installed integrations to none). In v5, you will need to use `--report_to all` to get the same behavior as now. You should start updating your code and make this info disappear :-).\n",
      "/home/carson/rlhf/notebooks/large_data/distilbert-imdb is already a clone of https://huggingface.co/clam004/distilbert-imdb. Make sure you pull the latest changes with `repo.git_pull()`.\n"
     ]
    }
   ],
   "source": [
    "from transformers import TrainingArguments, Trainer, DataCollatorWithPadding\n",
    "from transformers import EarlyStoppingCallback, IntervalStrategy\n",
    "\n",
    "from huggingface_hub import Repository\n",
    "repo = Repository(local_dir=\"large_data/distilbert-imdb\", clone_from=\"clam004/distilbert-imdb\")\n",
    "repo.git_pull()\n",
    "\n",
    "os.environ[\"TOKENIZERS_PARALLELISM\"] = \"true\"\n",
    "\n",
    "# Defining the TrainingArguments() arguments\n",
    "\n",
    "training_args = TrainingArguments(\n",
    "   output_dir=\"large_data/distilbert-imdb\",\n",
    "   evaluation_strategy = IntervalStrategy.STEPS, # \"steps\", \"epoch\", \n",
    "   eval_steps = 10, # Evaluation and Save happens every 50 steps\n",
    "   save_total_limit = 1, # Only last 5 models are saved. Older ones are deleted.\n",
    "   learning_rate=5e-5,\n",
    "   per_device_train_batch_size=16,\n",
    "   per_device_eval_batch_size=batch_size,\n",
    "   num_train_epochs=5,\n",
    "   weight_decay=0.01,\n",
    "   push_to_hub=True,\n",
    "   metric_for_best_model = 'f1',\n",
    "   load_best_model_at_end=True,\n",
    ")\n",
    "\n",
    "data_collator = DataCollatorWithPadding(tokenizer)\n",
    "\n",
    "\n",
    "trainer = Trainer(\n",
    "    model=model, \n",
    "    tokenizer=tokenizer,\n",
    "    data_collator=data_collator,\n",
    "    args=training_args,\n",
    "    train_dataset=tokenized_dataset[\"train\"],\n",
    "    eval_dataset=tokenized_dataset[\"test\"], \n",
    "    compute_metrics=compute_metrics,\n",
    "    callbacks = [EarlyStoppingCallback(early_stopping_patience=2)]\n",
    ")"
   ]
  },
  {
   "cell_type": "code",
   "execution_count": null,
   "id": "0197b0d9",
   "metadata": {},
   "outputs": [],
   "source": [
    "trainer.train()"
   ]
  },
  {
   "cell_type": "code",
   "execution_count": 26,
   "id": "d4a5ede5",
   "metadata": {},
   "outputs": [
    {
     "name": "stderr",
     "output_type": "stream",
     "text": [
      "Saving model checkpoint to large_data/distilbert-imdb\n",
      "Configuration saved in large_data/distilbert-imdb/config.json\n",
      "Model weights saved in large_data/distilbert-imdb/pytorch_model.bin\n",
      "tokenizer config file saved in large_data/distilbert-imdb/tokenizer_config.json\n",
      "Special tokens file saved in large_data/distilbert-imdb/special_tokens_map.json\n"
     ]
    },
    {
     "data": {
      "application/vnd.jupyter.widget-view+json": {
       "model_id": "d7bf164a23604540b2af2fcfc59aad78",
       "version_major": 2,
       "version_minor": 0
      },
      "text/plain": [
       "Upload file pytorch_model.bin:   0%|          | 4.00k/255M [00:00<?, ?B/s]"
      ]
     },
     "metadata": {},
     "output_type": "display_data"
    },
    {
     "data": {
      "application/vnd.jupyter.widget-view+json": {
       "model_id": "7d71e60f5feb4fdea54318c97c7203e7",
       "version_major": 2,
       "version_minor": 0
      },
      "text/plain": [
       "Upload file training_args.bin: 100%|##########| 3.30k/3.30k [00:00<?, ?B/s]"
      ]
     },
     "metadata": {},
     "output_type": "display_data"
    },
    {
     "name": "stderr",
     "output_type": "stream",
     "text": [
      "remote: Scanning LFS files for validity, may be slow...        \n",
      "remote: LFS file scan complete.        \n",
      "To https://huggingface.co/clam004/distilbert-imdb\n",
      "   e844da1..84b7f41  main -> main\n",
      "\n",
      "Dropping the following result as it does not have all the necessary fields:\n",
      "{'task': {'name': 'Text Classification', 'type': 'text-classification'}, 'dataset': {'name': 'imdb', 'type': 'imdb', 'config': 'plain_text', 'split': 'train', 'args': 'plain_text'}}\n",
      "To https://huggingface.co/clam004/distilbert-imdb\n",
      "   84b7f41..dc2f4fb  main -> main\n",
      "\n"
     ]
    },
    {
     "data": {
      "text/plain": [
       "'https://huggingface.co/clam004/distilbert-imdb/commit/84b7f419d59564c4f55897b2f235d9bb1f3c7c6c'"
      ]
     },
     "execution_count": 26,
     "metadata": {},
     "output_type": "execute_result"
    }
   ],
   "source": [
    "trainer.push_to_hub()"
   ]
  },
  {
   "cell_type": "markdown",
   "id": "3d1ec10d",
   "metadata": {},
   "source": [
    "expected output\n",
    "\n",
    "```\n",
    "To https://huggingface.co/clam004/distilbert-imdb\n",
    "\n",
    "'https://huggingface.co/clam004/distilbert-imdb/commit/29940673ff3a7a22ab3607152dbaa821f1d10a4e'\n",
    "```"
   ]
  },
  {
   "cell_type": "code",
   "execution_count": 27,
   "id": "053252d3",
   "metadata": {},
   "outputs": [
    {
     "data": {
      "application/vnd.jupyter.widget-view+json": {
       "model_id": "ec3866dd3001423288f0b24d1ed50f35",
       "version_major": 2,
       "version_minor": 0
      },
      "text/plain": [
       "Downloading:   0%|          | 0.00/615 [00:00<?, ?B/s]"
      ]
     },
     "metadata": {},
     "output_type": "display_data"
    },
    {
     "name": "stderr",
     "output_type": "stream",
     "text": [
      "loading configuration file config.json from cache at /home/carson/.cache/huggingface/hub/models--clam004--distilbert-imdb/snapshots/dc2f4fbd94e39ed21acb9551f92981f1e0354738/config.json\n",
      "Model config DistilBertConfig {\n",
      "  \"_name_or_path\": \"clam004/distilbert-imdb\",\n",
      "  \"activation\": \"gelu\",\n",
      "  \"architectures\": [\n",
      "    \"DistilBertForSequenceClassification\"\n",
      "  ],\n",
      "  \"attention_dropout\": 0.1,\n",
      "  \"dim\": 768,\n",
      "  \"dropout\": 0.1,\n",
      "  \"hidden_dim\": 3072,\n",
      "  \"initializer_range\": 0.02,\n",
      "  \"max_position_embeddings\": 512,\n",
      "  \"model_type\": \"distilbert\",\n",
      "  \"n_heads\": 12,\n",
      "  \"n_layers\": 6,\n",
      "  \"pad_token_id\": 0,\n",
      "  \"problem_type\": \"single_label_classification\",\n",
      "  \"qa_dropout\": 0.1,\n",
      "  \"seq_classif_dropout\": 0.2,\n",
      "  \"sinusoidal_pos_embds\": false,\n",
      "  \"tie_weights_\": true,\n",
      "  \"torch_dtype\": \"float32\",\n",
      "  \"transformers_version\": \"4.25.1\",\n",
      "  \"vocab_size\": 30522\n",
      "}\n",
      "\n",
      "loading configuration file config.json from cache at /home/carson/.cache/huggingface/hub/models--clam004--distilbert-imdb/snapshots/dc2f4fbd94e39ed21acb9551f92981f1e0354738/config.json\n",
      "Model config DistilBertConfig {\n",
      "  \"_name_or_path\": \"clam004/distilbert-imdb\",\n",
      "  \"activation\": \"gelu\",\n",
      "  \"architectures\": [\n",
      "    \"DistilBertForSequenceClassification\"\n",
      "  ],\n",
      "  \"attention_dropout\": 0.1,\n",
      "  \"dim\": 768,\n",
      "  \"dropout\": 0.1,\n",
      "  \"hidden_dim\": 3072,\n",
      "  \"initializer_range\": 0.02,\n",
      "  \"max_position_embeddings\": 512,\n",
      "  \"model_type\": \"distilbert\",\n",
      "  \"n_heads\": 12,\n",
      "  \"n_layers\": 6,\n",
      "  \"pad_token_id\": 0,\n",
      "  \"problem_type\": \"single_label_classification\",\n",
      "  \"qa_dropout\": 0.1,\n",
      "  \"seq_classif_dropout\": 0.2,\n",
      "  \"sinusoidal_pos_embds\": false,\n",
      "  \"tie_weights_\": true,\n",
      "  \"torch_dtype\": \"float32\",\n",
      "  \"transformers_version\": \"4.25.1\",\n",
      "  \"vocab_size\": 30522\n",
      "}\n",
      "\n"
     ]
    },
    {
     "data": {
      "application/vnd.jupyter.widget-view+json": {
       "model_id": "d04d96dd611e417b96e913cf94f50553",
       "version_major": 2,
       "version_minor": 0
      },
      "text/plain": [
       "Downloading:   0%|          | 0.00/268M [00:00<?, ?B/s]"
      ]
     },
     "metadata": {},
     "output_type": "display_data"
    },
    {
     "name": "stderr",
     "output_type": "stream",
     "text": [
      "loading weights file pytorch_model.bin from cache at /home/carson/.cache/huggingface/hub/models--clam004--distilbert-imdb/snapshots/dc2f4fbd94e39ed21acb9551f92981f1e0354738/pytorch_model.bin\n",
      "All model checkpoint weights were used when initializing DistilBertForSequenceClassification.\n",
      "\n",
      "All the weights of DistilBertForSequenceClassification were initialized from the model checkpoint at clam004/distilbert-imdb.\n",
      "If your task is similar to the task the model of the checkpoint was trained on, you can already use DistilBertForSequenceClassification for predictions without further training.\n"
     ]
    },
    {
     "data": {
      "application/vnd.jupyter.widget-view+json": {
       "model_id": "a56defc00bb04b35a9d70daca16aa79e",
       "version_major": 2,
       "version_minor": 0
      },
      "text/plain": [
       "Downloading:   0%|          | 0.00/360 [00:00<?, ?B/s]"
      ]
     },
     "metadata": {},
     "output_type": "display_data"
    },
    {
     "data": {
      "application/vnd.jupyter.widget-view+json": {
       "model_id": "b4e997b005294a64af64e2402e3b9930",
       "version_major": 2,
       "version_minor": 0
      },
      "text/plain": [
       "Downloading:   0%|          | 0.00/232k [00:00<?, ?B/s]"
      ]
     },
     "metadata": {},
     "output_type": "display_data"
    },
    {
     "data": {
      "application/vnd.jupyter.widget-view+json": {
       "model_id": "e8ba9d55c3454c03a637a7fceaf46a3c",
       "version_major": 2,
       "version_minor": 0
      },
      "text/plain": [
       "Downloading:   0%|          | 0.00/711k [00:00<?, ?B/s]"
      ]
     },
     "metadata": {},
     "output_type": "display_data"
    },
    {
     "data": {
      "application/vnd.jupyter.widget-view+json": {
       "model_id": "11e11b21152d40f5900d260ba11a711c",
       "version_major": 2,
       "version_minor": 0
      },
      "text/plain": [
       "Downloading:   0%|          | 0.00/125 [00:00<?, ?B/s]"
      ]
     },
     "metadata": {},
     "output_type": "display_data"
    },
    {
     "name": "stderr",
     "output_type": "stream",
     "text": [
      "loading file vocab.txt from cache at /home/carson/.cache/huggingface/hub/models--clam004--distilbert-imdb/snapshots/dc2f4fbd94e39ed21acb9551f92981f1e0354738/vocab.txt\n",
      "loading file tokenizer.json from cache at /home/carson/.cache/huggingface/hub/models--clam004--distilbert-imdb/snapshots/dc2f4fbd94e39ed21acb9551f92981f1e0354738/tokenizer.json\n",
      "loading file added_tokens.json from cache at None\n",
      "loading file special_tokens_map.json from cache at /home/carson/.cache/huggingface/hub/models--clam004--distilbert-imdb/snapshots/dc2f4fbd94e39ed21acb9551f92981f1e0354738/special_tokens_map.json\n",
      "loading file tokenizer_config.json from cache at /home/carson/.cache/huggingface/hub/models--clam004--distilbert-imdb/snapshots/dc2f4fbd94e39ed21acb9551f92981f1e0354738/tokenizer_config.json\n"
     ]
    }
   ],
   "source": [
    "# load the model you just pushed \n",
    "sentiment_pipe = pipeline(\"sentiment-analysis\",\"clam004/distilbert-imdb\", device=pipe_device)"
   ]
  },
  {
   "cell_type": "code",
   "execution_count": null,
   "id": "fc92a63e",
   "metadata": {},
   "outputs": [],
   "source": []
  }
 ],
 "metadata": {
  "kernelspec": {
   "display_name": "Python 3 (ipykernel)",
   "language": "python",
   "name": "python3"
  },
  "language_info": {
   "codemirror_mode": {
    "name": "ipython",
    "version": 3
   },
   "file_extension": ".py",
   "mimetype": "text/x-python",
   "name": "python",
   "nbconvert_exporter": "python",
   "pygments_lexer": "ipython3",
   "version": "3.8.10"
  }
 },
 "nbformat": 4,
 "nbformat_minor": 5
}
